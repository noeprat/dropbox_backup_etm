{
 "cells": [
  {
   "cell_type": "markdown",
   "id": "16025696",
   "metadata": {},
   "source": [
    "# Imports"
   ]
  },
  {
   "cell_type": "code",
   "execution_count": 62,
   "id": "83ba1927",
   "metadata": {},
   "outputs": [],
   "source": [
    "import os\n",
    "import csv\n"
   ]
  },
  {
   "cell_type": "markdown",
   "id": "9f599880",
   "metadata": {},
   "source": [
    "# Variables"
   ]
  },
  {
   "cell_type": "code",
   "execution_count": 31,
   "id": "a20c0330",
   "metadata": {},
   "outputs": [],
   "source": [
    "test_strs = [\n",
    "        \"RVD001_MRI_NIFTI/_localizer_others/RVD001_MRI_Initialized_by_sequence_20250721150617_2.nii.gz\",\n",
    "        \"RVD001_MRI_NIFTI/_localizer_others/RVD001_MRI_Initialized_by_sequence_20250721150617_2a.nii.gz\",\n",
    "        \"RVD001_MRI_NIFTI/_localizer_others/RVD001_MRI_Initialized_by_sequence_20250721150617_2b.nii.gz\",\n",
    "\n",
    "        \"RVD001_MRI_NIFTI/_localizer_others/RVD001_MRI_localizer_20250721150617_3_i03001.nii.gz\",\n",
    "        \"RVD001_MRI_NIFTI/_localizer_others/RVD001_MRI_localizer_20250721150617_3_i03004.nii.gz\",\n",
    "        \"RVD001_MRI_NIFTI/_localizer_others/RVD001_MRI_localizer_20250721150617_3_i03009.nii.gz\",\n",
    "\n",
    "        \"RVD001_MRI_NIFTI/_localizer_others/RVD001_MRI_t2_spc_tra_iso_ZOOMit_05_T12_l1_2500_interpol_20250721150617_14.nii.gz\",\n",
    "        \"RVD001_MRI_NIFTI/_localizer_others/RVD001_MRI_t2_spc_tra_iso_ZOOMit_05_T12_l1_2500_interpol_20250721150617_16.nii.gz\",\n",
    "\n",
    "        \"RVD001_MRI_NIFTI/_localizer_others/RVD001_MRI_t2_trufi3d_cor_06_Lumbar_2050721150617_1009.nii.gz\",\n",
    "        \"RVD001_MRI_NIFTI/_localizer_others/RVD001_MRI_t2_trufi3d_cor_06_Lumbar_2050721150617_1009a.nii.gz\",\n",
    "\n",
    "        \"RVD001_MRI_NIFTI/Bladder_Sequence/RVD001_MRI_t2_space_sag_iso_cs14_Bladder_2_2050721150617_21.nii.gz\",\n",
    "\n",
    "        \"RVD001_MRI_NIFTI/Bladder_Sequence/RVD001_MRI_t2_space_sag_iso_cs14_Bladder_2050721150617_4.nii.gz\",\n",
    "        \"REEVOID_001_CT_NIFTI/_MRI/REEVOID_001_CT_DICOM_SURVEY_20240517155040_101_i00001.nii.gz\",\n",
    "        \"RVD001_MRI_NIFTI/Dixon/RVD001_MRI_t2_tse_dixon_sag_2050721150617_17_phMag.nii.gz\"\n",
    "\n",
    "    ]"
   ]
  },
  {
   "cell_type": "code",
   "execution_count": 15,
   "id": "6c9bf7d1",
   "metadata": {},
   "outputs": [
    {
     "data": {
      "text/plain": [
       "13"
      ]
     },
     "execution_count": 15,
     "metadata": {},
     "output_type": "execute_result"
    }
   ],
   "source": [
    "len(\"2050721150617\")"
   ]
  },
  {
   "cell_type": "markdown",
   "id": "7d9b602e",
   "metadata": {},
   "source": [
    "# Extract info\n",
    "\n",
    "[https://www.w3schools.com/python/python_ref_string.asp](https://www.w3schools.com/python/python_ref_string.asp)"
   ]
  },
  {
   "cell_type": "code",
   "execution_count": 16,
   "id": "4f5e4f5c",
   "metadata": {},
   "outputs": [
    {
     "data": {
      "text/plain": [
       "15"
      ]
     },
     "execution_count": 16,
     "metadata": {},
     "output_type": "execute_result"
    }
   ],
   "source": [
    "int(\"15\")"
   ]
  },
  {
   "cell_type": "code",
   "execution_count": null,
   "id": "5742ba12",
   "metadata": {},
   "outputs": [],
   "source": [
    "def is_date(str):\n",
    "    if str.isdecimal():   \n",
    "        if len(str)==14: #correctly formatted date\n",
    "            year = int(str[:4])\n",
    "            month = int(str[4:6])\n",
    "            day = int(str[6:8])\n",
    "            return 2000 <= year and year <= 2025 and month <= 12 and day <= 31\n",
    "\n",
    "\n",
    "        elif len(str)==13: #typo\n",
    "            year = int(str[:3])\n",
    "            month = int(str[3:5])\n",
    "            day = int(str[5:7])\n",
    "            return 200 <= year and year <= 205 and month <= 12 and day <= 31\n",
    "        else:\n",
    "            return False\n",
    "    else: \n",
    "        return False\n"
   ]
  },
  {
   "cell_type": "code",
   "execution_count": null,
   "id": "c1ea42bf",
   "metadata": {},
   "outputs": [
    {
     "name": "stdout",
     "output_type": "stream",
     "text": [
      "RVD001_MRI_NIFTI/Dixon/RVD001_MRI_t2_tse_dixon_sag_2050721150617_17_phMag\n",
      "RVD001_MRI_NIFTI/Dixon/RVD001_MRI_t2_tse_dixon_sag1.5_2050721150617_17_phMag\n"
     ]
    }
   ],
   "source": [
    "def extract_extension(str):\n",
    "    if str[-7:]==\".nii.gz\":\n",
    "        ext = \".nii.gz\"\n",
    "    else:\n",
    "        ext =  str.split(\".\")[-1]\n",
    "        if len(ext) < len(str) and len(ext)<10:\n",
    "            ext = \".\" + ext\n",
    "        else:\n",
    "            ext=''\n",
    "    return ext\n",
    "\n",
    "def remove_extension(str):\n",
    "    ext = extract_extension(str)\n",
    "    if len(ext)>0:\n",
    "        return str[:-len(ext)]\n",
    "    else:\n",
    "        return str\n",
    "    \n",
    "print(remove_extension(\"RVD001_MRI_NIFTI/Dixon/RVD001_MRI_t2_tse_dixon_sag_2050721150617_17_phMag.nii.gz\"))\n",
    "print(remove_extension(\"RVD001_MRI_NIFTI/Dixon/RVD001_MRI_t2_tse_dixon_sag1.5_2050721150617_17_phMag\"))\n",
    "\n",
    "def extract_id(str):\n",
    "    \n",
    "    str = remove_extension(str)\n",
    "    split = str.split(\"_\")\n",
    "    id_index = None\n",
    "    for i,elt in enumerate(split):\n",
    "        if is_date(elt):\n",
    "            id_index = i+1\n",
    "    id_elt = ''\n",
    "    for split_elt in split[id_index:]:\n",
    "        if not split_elt.isalpha():\n",
    "            id_elt = id_elt + split_elt.lower()\n",
    "    return id_elt\n",
    "\n",
    "def extract_suffix(str):\n",
    "    str = remove_extension(str)\n",
    "    split = str.split(\"_\")\n",
    "    # TO MANY PARTICULAR CASES\n",
    "    return None\n",
    "\n",
    "\n"
   ]
  },
  {
   "cell_type": "code",
   "execution_count": 69,
   "id": "9d93d00a",
   "metadata": {},
   "outputs": [
    {
     "data": {
      "text/plain": [
       "'sub-02'"
      ]
     },
     "execution_count": 69,
     "metadata": {},
     "output_type": "execute_result"
    }
   ],
   "source": [
    "\n",
    "participants = {}\n",
    "with open('participants.csv', mode='r') as file:\n",
    "    csv_file = csv.reader(file)\n",
    "    line_idx=0\n",
    "    for line in csv_file:\n",
    "        if line_idx >0:\n",
    "            old_name = line[0].strip()\n",
    "            new_name = line[1].strip()\n",
    "            participants[old_name] = new_name\n",
    "        line_idx +=1\n",
    "\n",
    "\n",
    "def get_sub(str):\n",
    "    filename = str.split(\"/\")[-1]\n",
    "    split = filename.split(\"_\")\n",
    "    old_name = split[0]\n",
    "    return participants[old_name]\n",
    "\n",
    "get_sub(\"RVD001_MRI_NIFTI/Dixon/RVD001_MRI_t2_tse_dixon_sag_2050721150617_17_phMag.nii.gz\")\n",
    "\n",
    "\n"
   ]
  },
  {
   "cell_type": "markdown",
   "id": "ad3ad756",
   "metadata": {},
   "source": [
    "# Make a dict for each file with relevant info"
   ]
  },
  {
   "cell_type": "code",
   "execution_count": null,
   "id": "99249298",
   "metadata": {},
   "outputs": [],
   "source": [
    "Example_dict ={\n",
    "    \"old_path\":\"RVD001/RVD001_MRI_NIFTI/Dixon/RVD001_MRI_t2_tse_dixon_sag_2050721150617_17_phMag.nii.gz\",\n",
    "    \"id\":\"17\",\n",
    "    \"sub\":\"sub-02\",\n",
    "    \"type\":\"anat\",\n",
    "    \"extension\":\".nii.gz\",\n",
    "    \"extra\":[\n",
    "        \"dixon\",\"phmag\"\n",
    "    ],\n",
    "    \"suffix\":\"t2_tfe\",\n",
    "    \"is_localizer\":False,\n",
    "    \"is_other\":False,\n",
    "    \"is_a_previous_version\":False,\n",
    "    \"new_path\":\"sub-02/anat/sub-02_id-17_dixon_phmag_t2_tse.nii.gz\"\n",
    "}\n",
    "\n",
    "# GET MORE SYMPTOMATIC EXAMPLES"
   ]
  },
  {
   "cell_type": "code",
   "execution_count": null,
   "id": "2bdb8d14",
   "metadata": {},
   "outputs": [],
   "source": [
    "def pre_fill_file_info(str):\n",
    "    file_data = {}\n",
    "    file_data['old_path'] = str\n",
    "    file_data['id'] = extract_id[str]\n",
    "    file_data['sub'] = get_sub[str]\n",
    "\n",
    "    file_data['extension'] = extract_extension[str]\n",
    "\n",
    "    return file_data\n",
    "\n",
    "\n",
    "    "
   ]
  }
 ],
 "metadata": {
  "kernelspec": {
   "display_name": ".venv (3.12.8)",
   "language": "python",
   "name": "python3"
  },
  "language_info": {
   "codemirror_mode": {
    "name": "ipython",
    "version": 3
   },
   "file_extension": ".py",
   "mimetype": "text/x-python",
   "name": "python",
   "nbconvert_exporter": "python",
   "pygments_lexer": "ipython3",
   "version": "3.12.8"
  }
 },
 "nbformat": 4,
 "nbformat_minor": 5
}
