{
 "cells": [
  {
   "cell_type": "markdown",
   "id": "5478697a",
   "metadata": {},
   "source": [
    "The goal is to get all the paths from a directory (and its subdirs) in dropbox, then propose for each a new location and a new filename.\n"
   ]
  },
  {
   "cell_type": "markdown",
   "id": "e394e10f",
   "metadata": {},
   "source": [
    "# Imports"
   ]
  },
  {
   "cell_type": "code",
   "execution_count": 1,
   "id": "2d1f388c",
   "metadata": {},
   "outputs": [],
   "source": [
    "import os\n",
    "\n",
    "from utils.filename_reader import create_filename_dict\n",
    "import json\n",
    "\n",
    "import sys\n",
    "import dropbox\n",
    "from dropbox.files import WriteMode\n",
    "from dropbox.exceptions import ApiError, AuthError\n",
    "\n",
    "from tokens import ACCESS_TOKEN\n",
    "\n",
    "# Add OAuth2 access token here.\n",
    "# You can generate one for yourself in the App Console.\n",
    "# See <https://blogs.dropbox.com/developers/2014/05/generate-an-access-token-for-your-own-account/>\n",
    "TOKEN = ACCESS_TOKEN\n"
   ]
  },
  {
   "cell_type": "markdown",
   "id": "1ddd3b26",
   "metadata": {},
   "source": [
    "# API token"
   ]
  },
  {
   "cell_type": "code",
   "execution_count": 2,
   "id": "fd50f1bd",
   "metadata": {},
   "outputs": [
    {
     "name": "stdout",
     "output_type": "stream",
     "text": [
      "Creating a Dropbox object...\n"
     ]
    }
   ],
   "source": [
    "if (len(TOKEN) == 0):\n",
    "    sys.exit(\"ERROR: Looks like you didn't add your access token. \"\n",
    "        \"Open up backup-and-restore-example.py in a text editor and \"\n",
    "        \"paste in your token in line 14.\")\n",
    "\n",
    "    # Create an instance of a Dropbox class, which can make requests to the API.\n",
    "print(\"Creating a Dropbox object...\")\n",
    "with dropbox.Dropbox(TOKEN) as dbx:\n",
    "\n",
    "    # Check that the access token is valid\n",
    "    try:\n",
    "        dbx.users_get_current_account()\n",
    "    except AuthError:\n",
    "        sys.exit(\"ERROR: Invalid access token; try re-generating an \"\n",
    "            \"access token from the app console on the web.\")\n",
    "    \n",
    "    "
   ]
  },
  {
   "cell_type": "markdown",
   "id": "caf03eef",
   "metadata": {},
   "source": [
    "# Get the paths"
   ]
  },
  {
   "cell_type": "code",
   "execution_count": 5,
   "id": "17dd6f8e",
   "metadata": {},
   "outputs": [],
   "source": [
    "def get_all_paths(dir):\n",
    "    all_paths = []\n",
    "    for entry in dbx.files_list_folder(dir).entries:\n",
    "        if type(entry) == dropbox.files.FolderMetadata:\n",
    "            all_paths += get_all_paths(entry.path_display)\n",
    "        else:\n",
    "            all_paths.append(entry.path_display)\n",
    "    return all_paths\n",
    "\n"
   ]
  },
  {
   "cell_type": "code",
   "execution_count": 10,
   "id": "b12eaa0c",
   "metadata": {},
   "outputs": [
    {
     "name": "stdout",
     "output_type": "stream",
     "text": [
      "/source/REEVOID_PILOT_01_MRI_NIFTI/Resting_State/REEVOID_PILOT_01_MRI_RestingState_Lumbar_20250528145351_7.nii.gz\n",
      "/source/REEVOID_PILOT_01_MRI_NIFTI/Resting_State/REEVOID_PILOT_01_MRI_RestingState_Lumbar_20250528145351_7.json\n",
      "\n",
      "\n",
      "/source/REEVOID_PILOT_01_MRI_NIFTI/Resting_State/REEVOID_PILOT_01_MRI_RestingState_Lumbar_20250528145351_7.nii.gz\n",
      "/source/REEVOID_PILOT_01_MRI_NIFTI/Resting_State/REEVOID_PILOT_01_MRI_RestingState_Lumbar_20250528145351_7.json\n",
      "\n",
      "\n",
      "/source/REEVOID_PILOT_01_MRI_NIFTI/Resting_State/REEVOID_PILOT_01_MRI_RestingState_Lumbar_20250528145351_7.nii.gz\n",
      "/source/REEVOID_PILOT_01_MRI_NIFTI/Resting_State/REEVOID_PILOT_01_MRI_RestingState_Lumbar_20250528145351_7.json\n",
      "/source/Reevoid_Martin_fMRI_interoperability.zip\n",
      "/source/PhysioLogFiles_fMRI_Martin.zip\n"
     ]
    }
   ],
   "source": [
    "l = get_all_paths('/source/REEVOID_PILOT_01_MRI_NIFTI')\n",
    "for path in l:\n",
    "    print(path)\n",
    "print('\\n')\n",
    "\n",
    "l = get_all_paths('/source/REEVOID_PILOT_01_MRI_NIFTI/')\n",
    "for path in l:\n",
    "    print(path)\n",
    "print('\\n')\n",
    "\n",
    "l = get_all_paths('/source/')\n",
    "for path in l:\n",
    "    print(path)"
   ]
  },
  {
   "cell_type": "markdown",
   "id": "fbc93037",
   "metadata": {},
   "source": [
    "# Save jsons with infos and new paths"
   ]
  },
  {
   "cell_type": "code",
   "execution_count": 11,
   "id": "dad96b85",
   "metadata": {},
   "outputs": [
    {
     "name": "stdout",
     "output_type": "stream",
     "text": [
      "/source/REEVOID_PILOT_01_MRI_NIFTI/Resting_State/REEVOID_PILOT_01_MRI_RestingState_Lumbar_20250528145351_7.nii.gz\n",
      "/source/REEVOID_PILOT_01_MRI_NIFTI/Resting_State/REEVOID_PILOT_01_MRI_RestingState_Lumbar_20250528145351_7.json\n",
      "/source/Reevoid_Martin_fMRI_interoperability.zip\n",
      "/source/PhysioLogFiles_fMRI_Martin.zip\n",
      "done\n"
     ]
    }
   ],
   "source": [
    "participants_dict = {\n",
    "    \"REEVOID_001\": \"sub-01\",\n",
    "    \"REEVOID_PILOT_01\": \"sub-pilot\"\n",
    "}\n",
    "\n",
    "final_data = {}\n",
    "\n",
    "for file in l:\n",
    "    print(file)\n",
    "    final_data[file] = create_filename_dict(file, participants_dict, sub='sub_pilot',type='func', category='resting_state')\n",
    "print('done')\n",
    "\n",
    "with open('file_infos/test.json', 'w') as f:\n",
    "    json.dump(final_data, f, indent=4)"
   ]
  },
  {
   "cell_type": "markdown",
   "id": "61151286",
   "metadata": {},
   "source": [
    "## (TO DO) Correct new paths for localizer/other metadata"
   ]
  },
  {
   "cell_type": "code",
   "execution_count": null,
   "id": "a8eb0f1f",
   "metadata": {},
   "outputs": [],
   "source": [
    "# TODO"
   ]
  },
  {
   "cell_type": "markdown",
   "id": "f0e98674",
   "metadata": {},
   "source": [
    "# Save `paths.txt` and `recap.json`"
   ]
  },
  {
   "cell_type": "markdown",
   "id": "76b2704f",
   "metadata": {},
   "source": [
    "## `paths.txt`"
   ]
  },
  {
   "cell_type": "code",
   "execution_count": 12,
   "id": "ff26ec78",
   "metadata": {},
   "outputs": [],
   "source": [
    "def write_paths_file(file_infos_path, out_path, old_prefix='', new_prefix=''):\n",
    "\n",
    "    with open(file_infos_path,'r') as f:\n",
    "        data = json.load(f)\n",
    "    \n",
    "    out_dirs = '/'.join(out_path.split('/')[:-1])\n",
    "    try:\n",
    "        os.makedirs(out_dirs)\n",
    "        with open(out_path,'w') as f:\n",
    "            for file in data.keys():\n",
    "                f.write('~' + old_prefix + data[file]['old_path'] + ', ~/' + new_prefix + data[file]['new_path'])\n",
    "                f.write('\\n')\n",
    "    except:\n",
    "        with open(out_path,'a') as f:\n",
    "            for file in data.keys():\n",
    "                f.write('~' + data[file]['old_path'] + ', ~/' + data[file]['new_path'])\n",
    "                f.write('\\n')\n",
    "\n"
   ]
  },
  {
   "cell_type": "code",
   "execution_count": null,
   "id": "fbdd0861",
   "metadata": {},
   "outputs": [],
   "source": [
    "file_infos_path = 'file_infos/test.json'\n",
    "out_path = 'paths/test_02.txt'\n",
    "\n",
    "write_paths_file(file_infos_path, out_path, old_prefix='', new_prefix='')"
   ]
  },
  {
   "cell_type": "markdown",
   "id": "f3f06829",
   "metadata": {},
   "source": [
    "## `recap.json`"
   ]
  },
  {
   "cell_type": "code",
   "execution_count": 13,
   "id": "d72f829e",
   "metadata": {},
   "outputs": [],
   "source": [
    "def write_general_recap_file(file_infos_path, out_path, new_prefix=''):\n",
    "\n",
    "    with open(file_infos_path,'r') as f:\n",
    "        file_infos = json.load(f)\n",
    "    \n",
    "    out_dirs = '/'.join(out_path.split('/')[:-1])\n",
    "    out_data = {}\n",
    "\n",
    "    try:\n",
    "        with open(out_path,'w') as f:\n",
    "            for file in file_infos.keys():\n",
    "                type = file_infos[file]['type']\n",
    "                new_path = new_prefix + file_infos[file]['new_path']\n",
    "                sub = file_infos[file]['sub']\n",
    "                if sub not in out_data.keys():\n",
    "                    out_data[sub] = {}\n",
    "                if type in out_data[sub].keys():\n",
    "                    out_data[sub][type].append(new_path)\n",
    "                else:\n",
    "                    out_data[sub][type] = [new_path]\n",
    "            json.dump(out_data, f, indent=4)\n",
    "    except:\n",
    "        try:\n",
    "            os.makedirs(out_dirs)\n",
    "        finally:\n",
    "            with open(out_path,'w') as f:\n",
    "                for file in file_infos.keys():\n",
    "                    type = file_infos[file]['type']\n",
    "                    new_path = new_prefix + file_infos[file]['new_path']\n",
    "                    sub = file_infos[file]['sub']\n",
    "                    if sub not in out_data.keys():\n",
    "                        out_data[sub] = {}\n",
    "                    if type in out_data[sub].keys():\n",
    "                        out_data[sub][type].append(new_path)\n",
    "                    else:\n",
    "                        out_data[sub][type] = [new_path]\n",
    "                json.dump(out_data, f, indent=4)\n",
    "        \n"
   ]
  },
  {
   "cell_type": "code",
   "execution_count": 14,
   "id": "f9cef352",
   "metadata": {},
   "outputs": [],
   "source": [
    "write_general_recap_file(\n",
    "    file_infos_path='file_infos/test.json',\n",
    "    out_path='recaps/recap_01.json',\n",
    "    new_prefix=''\n",
    "    )"
   ]
  },
  {
   "cell_type": "code",
   "execution_count": 15,
   "id": "ed985a8b",
   "metadata": {},
   "outputs": [],
   "source": [
    "def merge_general_recaps(input_files, out_path):\n",
    "    out_data = {}\n",
    "    for file in input_files:\n",
    "        with open(file, 'r') as f:\n",
    "            file_data = json.load(f)\n",
    "        for sub in file_data.keys():\n",
    "            if sub not in out_data.keys():\n",
    "                out_data[sub] = file_data[sub]\n",
    "            else:\n",
    "                for file_type in file_data[sub].keys():\n",
    "                    if file_type not in out_data[sub].keys():\n",
    "                        out_data[sub][file_type] = file_data[sub][file_type]\n",
    "                    else:\n",
    "                        assert type(out_data[sub][file_type]) == list\n",
    "                        for new_path in file_data[sub][file_type]:\n",
    "                            if new_path not in out_data[sub][file_type]:\n",
    "                                out_data[sub][file_type].append(new_path)\n",
    "    try:\n",
    "        with open(out_path, 'w') as f:\n",
    "            json.dump(out_data, f, indent=4)\n",
    "    except:\n",
    "        out_dirs = '/'.join(out_path.split('/')[:-1])\n",
    "        os.makedirs(out_dirs)\n",
    "        with open(out_path, 'w') as f:\n",
    "            json.dump(out_data, f, indent=4)\n",
    "        "
   ]
  },
  {
   "cell_type": "code",
   "execution_count": 56,
   "id": "0217d76d",
   "metadata": {},
   "outputs": [],
   "source": [
    "merge_general_recaps(\n",
    "    input_files=[\n",
    "        'recaps/recap_01.json',\n",
    "        'recaps/recap_02.json'\n",
    "    ],\n",
    "    out_path='recaps/merged_recap_test.json'\n",
    ")"
   ]
  },
  {
   "cell_type": "markdown",
   "id": "8abd5b91",
   "metadata": {},
   "source": [
    "# Copy and rename old files to their new paths"
   ]
  },
  {
   "cell_type": "code",
   "execution_count": 3,
   "id": "2d787cea",
   "metadata": {},
   "outputs": [
    {
     "data": {
      "text/plain": [
       "FileMetadata(client_modified=datetime.datetime(2025, 6, 17, 18, 6, 34), content_hash='e5556a7e2d867e5cd33e1c73bfea5b2561c51ba635f5766a2a895777e2e19d0a', export_info=NOT_SET, file_lock_info=NOT_SET, has_explicit_shared_members=NOT_SET, id='id:KLawZ41SnG8AAAAAAAAATQ', is_downloadable=True, media_info=NOT_SET, name='sub_pilot_resting_state_id-7_bold.nii.gz', parent_shared_folder_id=NOT_SET, path_display='/target/sub_pilot/func/sub_pilot_resting_state_id-7_bold.nii.gz', path_lower='/target/sub_pilot/func/sub_pilot_resting_state_id-7_bold.nii.gz', preview_url=NOT_SET, property_groups=NOT_SET, rev='016410af3178da8000000030e305703', server_modified=datetime.datetime(2025, 10, 13, 14, 19, 4), sharing_info=NOT_SET, size=85415620, symlink_info=NOT_SET)"
      ]
     },
     "execution_count": 3,
     "metadata": {},
     "output_type": "execute_result"
    }
   ],
   "source": [
    "dbx.files_copy(\n",
    "    from_path= '/source/REEVOID_PILOT_01_MRI_NIFTI/Resting_State/REEVOID_PILOT_01_MRI_RestingState_Lumbar_20250528145351_7.nii.gz',\n",
    "    to_path='/target/sub_pilot/func/sub_pilot_resting_state_id-7_bold.nii.gz'\n",
    ")"
   ]
  },
  {
   "cell_type": "code",
   "execution_count": 8,
   "id": "874e9754",
   "metadata": {},
   "outputs": [
    {
     "name": "stdout",
     "output_type": "stream",
     "text": [
      "['/source/REEVOID_PILOT_01_MRI_NIFTI/Resting_State/REEVOID_PILOT_01_MRI_RestingState_Lumbar_20250528145351_7.nii.gz', '/source/REEVOID_PILOT_01_MRI_NIFTI/Resting_State/REEVOID_PILOT_01_MRI_RestingState_Lumbar_20250528145351_7.json', '/source/Reevoid_Martin_fMRI_interoperability.zip', '/source/PhysioLogFiles_fMRI_Martin.zip']\n"
     ]
    }
   ],
   "source": [
    "all_paths = get_all_paths('/source')\n",
    "\n",
    "print(all_paths)"
   ]
  },
  {
   "cell_type": "code",
   "execution_count": 16,
   "id": "c64c226f",
   "metadata": {},
   "outputs": [],
   "source": [
    "file_infos_path = 'file_infos/test.json'\n",
    "\n",
    "with open(file_infos_path, 'r') as f:\n",
    "    file_infos = json.load(f)\n",
    "\n",
    "for file in file_infos.keys():\n",
    "    dbx.files_copy(\n",
    "    from_path= file_infos[file][\"old_path\"],\n",
    "    to_path='/target/' + file_infos[file][\"new_path\"]\n",
    ")"
   ]
  }
 ],
 "metadata": {
  "kernelspec": {
   "display_name": ".venv (3.12.8)",
   "language": "python",
   "name": "python3"
  },
  "language_info": {
   "codemirror_mode": {
    "name": "ipython",
    "version": 3
   },
   "file_extension": ".py",
   "mimetype": "text/x-python",
   "name": "python",
   "nbconvert_exporter": "python",
   "pygments_lexer": "ipython3",
   "version": "3.12.8"
  }
 },
 "nbformat": 4,
 "nbformat_minor": 5
}
