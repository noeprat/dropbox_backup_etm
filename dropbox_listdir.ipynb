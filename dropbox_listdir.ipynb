{
 "cells": [
  {
   "cell_type": "markdown",
   "id": "5478697a",
   "metadata": {},
   "source": [
    "The goal is to get all the paths from a directory (and its subdirs) in dropbox, then propose for each a new location and a new filename.\n"
   ]
  },
  {
   "cell_type": "code",
   "execution_count": 1,
   "id": "2d1f388c",
   "metadata": {},
   "outputs": [],
   "source": [
    "import sys\n",
    "import dropbox\n",
    "from dropbox.files import WriteMode\n",
    "from dropbox.exceptions import ApiError, AuthError\n",
    "\n",
    "from tokens import ACCESS_TOKEN\n",
    "\n",
    "# Add OAuth2 access token here.\n",
    "# You can generate one for yourself in the App Console.\n",
    "# See <https://blogs.dropbox.com/developers/2014/05/generate-an-access-token-for-your-own-account/>\n",
    "TOKEN = ACCESS_TOKEN\n"
   ]
  },
  {
   "cell_type": "code",
   "execution_count": 9,
   "id": "fd50f1bd",
   "metadata": {},
   "outputs": [
    {
     "name": "stdout",
     "output_type": "stream",
     "text": [
      "Creating a Dropbox object...\n"
     ]
    }
   ],
   "source": [
    "if (len(TOKEN) == 0):\n",
    "    sys.exit(\"ERROR: Looks like you didn't add your access token. \"\n",
    "        \"Open up backup-and-restore-example.py in a text editor and \"\n",
    "        \"paste in your token in line 14.\")\n",
    "\n",
    "    # Create an instance of a Dropbox class, which can make requests to the API.\n",
    "print(\"Creating a Dropbox object...\")\n",
    "with dropbox.Dropbox(TOKEN) as dbx:\n",
    "\n",
    "    # Check that the access token is valid\n",
    "    try:\n",
    "        dbx.users_get_current_account()\n",
    "    except AuthError:\n",
    "        sys.exit(\"ERROR: Invalid access token; try re-generating an \"\n",
    "            \"access token from the app console on the web.\")\n",
    "    \n",
    "    "
   ]
  },
  {
   "cell_type": "code",
   "execution_count": 17,
   "id": "f2d90cf2",
   "metadata": {},
   "outputs": [
    {
     "name": "stdout",
     "output_type": "stream",
     "text": [
      "True\n",
      "/REEVOID_001_CT_NIFTI/_jsons\n",
      "True\n",
      "/REEVOID_001_CT_NIFTI/_localizer_others\n",
      "True\n",
      "/REEVOID_001_CT_NIFTI/_MRI\n",
      "False\n",
      "/REEVOID_001_CT_NIFTI/REEVOID_001_CT_DICOM_11_NATIF_CURML_20240517144156_16.nii.gz\n",
      "False\n",
      "/REEVOID_001_CT_NIFTI/REEVOID_001_CT_DICOM_11_NATIF_CURML_20240517144156_11.nii.gz\n",
      "False\n",
      "/REEVOID_001_CT_NIFTI/REEVOID_001_CT_DICOM_11_NATIF_CURML_20240517144156_18.nii.gz\n",
      "False\n",
      "/REEVOID_001_CT_NIFTI/REEVOID_001_CT_DICOM_11_NATIF_CURML_20240517144156_14.nii.gz\n",
      "False\n",
      "/REEVOID_001_CT_NIFTI/REEVOID_001_CT_DICOM_11_NATIF_CURML_20240517144156_5.nii.gz\n",
      "False\n",
      "/REEVOID_001_CT_NIFTI/REEVOID_001_CT_DICOM_11_NATIF_CURML_20240517144156_2.nii.gz\n",
      "False\n",
      "/REEVOID_001_CT_NIFTI/REEVOID_001_CT_DICOM_11_NATIF_CURML_20240517144156_12.nii.gz\n",
      "False\n",
      "/REEVOID_001_CT_NIFTI/REEVOID_001_CT_DICOM_11_NATIF_CURML_20240517144156_4.nii.gz\n",
      "False\n",
      "/REEVOID_001_CT_NIFTI/REEVOID_001_CT_DICOM_11_NATIF_CURML_20240517144156_10.nii.gz\n",
      "False\n",
      "/REEVOID_001_CT_NIFTI/REEVOID_001_CT_DICOM_11_NATIF_CURML_20240517144156_8.nii.gz\n",
      "False\n",
      "/REEVOID_001_CT_NIFTI/REEVOID_001_CT_DICOM_11_NATIF_CURML_20240517144156_17.nii.gz\n",
      "False\n",
      "/REEVOID_001_CT_NIFTI/REEVOID_001_CT_DICOM_11_NATIF_CURML_20240517144156_6.nii.gz\n"
     ]
    }
   ],
   "source": [
    "for entry in dbx.files_list_folder('/REEVOID_001_CT_NIFTI').entries:\n",
    "    print(type(entry)==dropbox.files.FolderMetadata)\n",
    "    print(entry.path_display)"
   ]
  },
  {
   "cell_type": "code",
   "execution_count": 19,
   "id": "17dd6f8e",
   "metadata": {},
   "outputs": [],
   "source": [
    "def get_all_paths(dir):\n",
    "    all_paths = []\n",
    "    for entry in dbx.files_list_folder(dir).entries:\n",
    "        if type(entry) == dropbox.files.FolderMetadata:\n",
    "            all_paths += get_all_paths(entry.path_display)\n",
    "        else:\n",
    "            all_paths.append(entry.path_display)\n",
    "    return all_paths\n",
    "\n",
    "l = get_all_paths('/REEVOID_001_CT_NIFTI')"
   ]
  },
  {
   "cell_type": "code",
   "execution_count": 21,
   "id": "b12eaa0c",
   "metadata": {},
   "outputs": [
    {
     "name": "stdout",
     "output_type": "stream",
     "text": [
      "/REEVOID_001_CT_NIFTI/_jsons/REEVOID_001_CT_DICOM_1.1_NATIF_CURML_20240517144156_6.json\n",
      "/REEVOID_001_CT_NIFTI/_jsons/REEVOID_001_CT_DICOM_SURVEY_20240517155040_101_i00001.json\n",
      "/REEVOID_001_CT_NIFTI/_jsons/REEVOID_001_CT_DICOM_1.1_NATIF_CURML_20240517144156_17.json\n",
      "/REEVOID_001_CT_NIFTI/_jsons/REEVOID_001_CT_DICOM_1.1_NATIF_CURML_20240517144156_10.json\n",
      "/REEVOID_001_CT_NIFTI/_jsons/REEVOID_001_CT_DICOM_1.1_NATIF_CURML_20240517144156_1.json\n",
      "/REEVOID_001_CT_NIFTI/_jsons/REEVOID_001_CT_DICOM_B_FFE_COR_180_slices_20240517155040_301.json\n",
      "/REEVOID_001_CT_NIFTI/_jsons/REEVOID_001_CT_DICOM_3D_T1_TFE_SAG_lombaire_20240517155040_201.json\n",
      "/REEVOID_001_CT_NIFTI/_jsons/REEVOID_001_CT_DICOM_1.1_NATIF_CURML_20240517144156_8.json\n",
      "/REEVOID_001_CT_NIFTI/_jsons/REEVOID_001_CT_DICOM_T2_3D_TRA_Vista_20240517155040_501.json\n",
      "/REEVOID_001_CT_NIFTI/_jsons/REEVOID_001_CT_DICOM_SURVEY_20240517155040_101_i00019.json\n",
      "/REEVOID_001_CT_NIFTI/_jsons/REEVOID_001_CT_DICOM_1.1_NATIF_CURML_20240517144156_4.json\n",
      "/REEVOID_001_CT_NIFTI/_jsons/REEVOID_001_CT_DICOM_1.1_NATIF_CURML_20240517144156_12.json\n",
      "/REEVOID_001_CT_NIFTI/_jsons/REEVOID_001_CT_DICOM_1.1_NATIF_CURML_20240517144156_5.json\n",
      "/REEVOID_001_CT_NIFTI/_jsons/REEVOID_001_CT_DICOM_b_ffe_tra_rec_20240517155040_304.json\n",
      "/REEVOID_001_CT_NIFTI/_jsons/REEVOID_001_CT_DICOM_1.1_NATIF_CURML_20240517144156_14.json\n",
      "/REEVOID_001_CT_NIFTI/_jsons/REEVOID_001_CT_DICOM_1.1_NATIF_CURML_20240517144156_13.json\n",
      "/REEVOID_001_CT_NIFTI/_jsons/REEVOID_001_CT_DICOM_1.1_NATIF_CURML_20240517144156_2.json\n",
      "/REEVOID_001_CT_NIFTI/_jsons/REEVOID_001_CT_DICOM_SURVEY_20240517155040_101_i00011.json\n",
      "/REEVOID_001_CT_NIFTI/_jsons/REEVOID_001_CT_DICOM_1.1_NATIF_CURML_20240517144156_16.json\n",
      "/REEVOID_001_CT_NIFTI/_jsons/REEVOID_001_CT_DICOM_b_ffe_tralices_20240517155040_303.json\n",
      "/REEVOID_001_CT_NIFTI/_jsons/REEVOID_001_CT_DICOM_1.1_NATIF_CURML_20240517144156_7.json\n",
      "/REEVOID_001_CT_NIFTI/_jsons/REEVOID_001_CT_DICOM_T2W_FFE_Sergio_20240517155040_401.json\n",
      "/REEVOID_001_CT_NIFTI/_jsons/REEVOID_001_CT_DICOM_1.1_NATIF_CURML_20240517144156_1a.json\n",
      "/REEVOID_001_CT_NIFTI/_jsons/REEVOID_001_CT_DICOM_1.1_NATIF_CURML_20240517144156_999.json\n",
      "/REEVOID_001_CT_NIFTI/_jsons/REEVOID_001_CT_DICOM_1.1_NATIF_CURML_20240517144156_11.json\n",
      "/REEVOID_001_CT_NIFTI/_jsons/REEVOID_001_CT_DICOM_1.1_NATIF_CURML_20240517144156_18.json\n",
      "/REEVOID_001_CT_NIFTI/_localizer_others/REEVOID_001_CT_DICOM_11_NATIF_CURML_20240517144156_1a.nii.gz\n",
      "/REEVOID_001_CT_NIFTI/_localizer_others/REEVOID_001_CT_DICOM_11_NATIF_CURML_20240517144156_1.nii.gz\n",
      "/REEVOID_001_CT_NIFTI/_localizer_others/REEVOID_001_CT_DICOM_11_NATIF_CURML_20240517144156_13.nii.gz\n",
      "/REEVOID_001_CT_NIFTI/_localizer_others/REEVOID_001_CT_DICOM_11_NATIF_CURML_20240517144156_7.nii.gz\n",
      "/REEVOID_001_CT_NIFTI/_localizer_others/REEVOID_001_CT_DICOM_11_NATIF_CURML_20240517144156_999.nii.gz\n",
      "/REEVOID_001_CT_NIFTI/_MRI/REEVOID_001_CT_DICOM_SURVEY_20240517155040_101_i00019.nii.gz\n",
      "/REEVOID_001_CT_NIFTI/_MRI/REEVOID_001_CT_DICOM_3D_T1_TFE_SAG_lombaire_20240517155040_201.nii.gz\n",
      "/REEVOID_001_CT_NIFTI/_MRI/REEVOID_001_CT_DICOM_b_ffe_tralices_20240517155040_303.nii.gz\n",
      "/REEVOID_001_CT_NIFTI/_MRI/REEVOID_001_CT_DICOM_SURVEY_20240517155040_101_i00011.nii.gz\n",
      "/REEVOID_001_CT_NIFTI/_MRI/REEVOID_001_CT_DICOM_B_FFE_COR_180_slices_20240517155040_301.nii.gz\n",
      "/REEVOID_001_CT_NIFTI/_MRI/REEVOID_001_CT_DICOM_T2W_FFE_Sergio_20240517155040_401.nii.gz\n",
      "/REEVOID_001_CT_NIFTI/_MRI/REEVOID_001_CT_DICOM_b_ffe_tra_rec_20240517155040_304.nii.gz\n",
      "/REEVOID_001_CT_NIFTI/_MRI/REEVOID_001_CT_DICOM_SURVEY_20240517155040_101_i00001.nii.gz\n",
      "/REEVOID_001_CT_NIFTI/_MRI/REEVOID_001_CT_DICOM_T2_3D_TRA_Vista_20240517155040_501.nii.gz\n",
      "/REEVOID_001_CT_NIFTI/REEVOID_001_CT_DICOM_11_NATIF_CURML_20240517144156_16.nii.gz\n",
      "/REEVOID_001_CT_NIFTI/REEVOID_001_CT_DICOM_11_NATIF_CURML_20240517144156_11.nii.gz\n",
      "/REEVOID_001_CT_NIFTI/REEVOID_001_CT_DICOM_11_NATIF_CURML_20240517144156_18.nii.gz\n",
      "/REEVOID_001_CT_NIFTI/REEVOID_001_CT_DICOM_11_NATIF_CURML_20240517144156_14.nii.gz\n",
      "/REEVOID_001_CT_NIFTI/REEVOID_001_CT_DICOM_11_NATIF_CURML_20240517144156_5.nii.gz\n",
      "/REEVOID_001_CT_NIFTI/REEVOID_001_CT_DICOM_11_NATIF_CURML_20240517144156_2.nii.gz\n",
      "/REEVOID_001_CT_NIFTI/REEVOID_001_CT_DICOM_11_NATIF_CURML_20240517144156_12.nii.gz\n",
      "/REEVOID_001_CT_NIFTI/REEVOID_001_CT_DICOM_11_NATIF_CURML_20240517144156_4.nii.gz\n",
      "/REEVOID_001_CT_NIFTI/REEVOID_001_CT_DICOM_11_NATIF_CURML_20240517144156_10.nii.gz\n",
      "/REEVOID_001_CT_NIFTI/REEVOID_001_CT_DICOM_11_NATIF_CURML_20240517144156_8.nii.gz\n",
      "/REEVOID_001_CT_NIFTI/REEVOID_001_CT_DICOM_11_NATIF_CURML_20240517144156_17.nii.gz\n",
      "/REEVOID_001_CT_NIFTI/REEVOID_001_CT_DICOM_11_NATIF_CURML_20240517144156_6.nii.gz\n"
     ]
    }
   ],
   "source": [
    "for path in l:\n",
    "    print(path)"
   ]
  },
  {
   "cell_type": "code",
   "execution_count": null,
   "id": "dad96b85",
   "metadata": {},
   "outputs": [],
   "source": []
  }
 ],
 "metadata": {
  "kernelspec": {
   "display_name": ".venv (3.12.8)",
   "language": "python",
   "name": "python3"
  },
  "language_info": {
   "codemirror_mode": {
    "name": "ipython",
    "version": 3
   },
   "file_extension": ".py",
   "mimetype": "text/x-python",
   "name": "python",
   "nbconvert_exporter": "python",
   "pygments_lexer": "ipython3",
   "version": "3.12.8"
  }
 },
 "nbformat": 4,
 "nbformat_minor": 5
}
