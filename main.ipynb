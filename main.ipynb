{
 "cells": [
  {
   "cell_type": "markdown",
   "id": "b50657ca",
   "metadata": {},
   "source": [
    "# Imports"
   ]
  },
  {
   "cell_type": "code",
   "execution_count": 6,
   "id": "053a180a",
   "metadata": {},
   "outputs": [],
   "source": [
    "from utils.dropbox_filesystem import get_all_paths, sort_source_to_target\n",
    "from utils.save_logs import save_file_infos, save_jsons_to_data, correct_file_infos_with_matching_metadata \n",
    "from utils.save_logs import write_paths_file, write_general_recap_file, merge_general_recaps\n",
    "\n",
    "from tokens import ACCESS_TOKEN\n"
   ]
  },
  {
   "cell_type": "markdown",
   "id": "402f7971",
   "metadata": {},
   "source": [
    "# Get the paths"
   ]
  },
  {
   "cell_type": "code",
   "execution_count": null,
   "id": "a87e76ff",
   "metadata": {},
   "outputs": [
    {
     "name": "stderr",
     "output_type": "stream",
     "text": [
      "Unable to refresh access token without                 refresh token and app key\n"
     ]
    },
    {
     "ename": "SystemExit",
     "evalue": "ERROR: Invalid access token; try re-generating an access token from the app console on the web.",
     "output_type": "error",
     "traceback": [
      "An exception has occurred, use %tb to see the full traceback.\n",
      "\u001b[31mSystemExit\u001b[39m\u001b[31m:\u001b[39m ERROR: Invalid access token; try re-generating an access token from the app console on the web.\n"
     ]
    }
   ],
   "source": [
    "input_files = get_all_paths(TOKEN= ACCESS_TOKEN, \n",
    "                            dir= '/source', \n",
    "                            recursive=True, \n",
    "                            remove_source=True\n",
    "                            )\n",
    "print('Done \\n')\n",
    "\n",
    "for path in input_files:\n",
    "    print(path)"
   ]
  },
  {
   "cell_type": "markdown",
   "id": "008c5f90",
   "metadata": {},
   "source": [
    "# Save file infos"
   ]
  },
  {
   "cell_type": "code",
   "execution_count": null,
   "id": "66600096",
   "metadata": {},
   "outputs": [],
   "source": [
    "#save_file_infos(\n",
    "#    input_files,\n",
    "#    participants_dict={\n",
    "#        \"old_sub\": \"sub-[n]\"\n",
    "#    },\n",
    "#    out_path='file_infos/blabla.json',\n",
    "#    **kwargs\n",
    "#    )\n",
    "\n",
    "file_infos_path = 'file_infos/reevoid/file_infos-01.json'\n",
    "\n",
    "save_file_infos(\n",
    "    input_files,\n",
    "    participants_dict={\n",
    "        \"REEVOID_001\": \"sub-01\",\n",
    "        \"REEVOID_PILOT_01\": \"sub-pilot\"\n",
    "    },\n",
    "    out_path= file_infos_path,\n",
    "    sub='sub_pilot',type='func', category='resting_state'\n",
    "    )"
   ]
  },
  {
   "cell_type": "code",
   "execution_count": null,
   "id": "44c25563",
   "metadata": {},
   "outputs": [],
   "source": [
    "jsons_to_data_path = 'file_infos/reevoid/jsons_to_data-01.json'\n",
    "\n",
    "save_jsons_to_data(\n",
    "    file_infos_path = file_infos_path,\n",
    "    jsons_to_data_path= jsons_to_data_path\n",
    ")"
   ]
  },
  {
   "cell_type": "markdown",
   "id": "c7b56328",
   "metadata": {},
   "source": [
    "**TO DO:**\n",
    "> Manually correct the json in `jsons_to_data_path` to match each json to its correct data file (usually nifti)."
   ]
  },
  {
   "cell_type": "markdown",
   "id": "322ea254",
   "metadata": {},
   "source": [
    "Correct file infos:"
   ]
  },
  {
   "cell_type": "code",
   "execution_count": null,
   "id": "59260504",
   "metadata": {},
   "outputs": [],
   "source": [
    "corrected_file_infos_path = file_infos_path[:-len('.json')] +'_corrected.json'\n",
    "\n",
    "correct_file_infos_with_matching_metadata(\n",
    "    file_infos_path = file_infos_path,\n",
    "    jsons_to_data_path = jsons_to_data_path,\n",
    "    corrected_file_infos_path = corrected_file_infos_path\n",
    ")"
   ]
  },
  {
   "cell_type": "markdown",
   "id": "57353bab",
   "metadata": {},
   "source": [
    "# Save `paths.txt` and `recap.json`"
   ]
  },
  {
   "cell_type": "code",
   "execution_count": null,
   "id": "377f7c49",
   "metadata": {},
   "outputs": [],
   "source": [
    "txt_logs_path = 'paths/reevoid/paths-01.txt'\n",
    "\n",
    "\n",
    "write_paths_file(\n",
    "    file_infos_path= corrected_file_infos_path,\n",
    "    out_path = txt_logs_path,\n",
    "    old_prefix='',\n",
    "    new_prefix=''\n",
    "    )"
   ]
  },
  {
   "cell_type": "code",
   "execution_count": null,
   "id": "034ab2dc",
   "metadata": {},
   "outputs": [],
   "source": [
    "json_recap_path = 'recaps/reevoid/recap-01.json'\n",
    "\n",
    "write_general_recap_file(\n",
    "    file_infos_path= corrected_file_infos_path,\n",
    "    out_path= json_recap_path,\n",
    "    new_prefix=''\n",
    "    )"
   ]
  },
  {
   "cell_type": "markdown",
   "id": "e6500835",
   "metadata": {},
   "source": [
    "Eventually merge several json recaps:"
   ]
  },
  {
   "cell_type": "code",
   "execution_count": null,
   "id": "cac81683",
   "metadata": {},
   "outputs": [],
   "source": [
    "merge = False\n",
    "\n",
    "if merge:\n",
    "\n",
    "    merge_general_recaps(\n",
    "        input_files=[\n",
    "            'recaps/recap_01.json',\n",
    "            'recaps/recap_02.json'\n",
    "        ],\n",
    "        out_path='recaps/merged_recap_test.json'\n",
    "    )"
   ]
  },
  {
   "cell_type": "markdown",
   "id": "c34bf7fc",
   "metadata": {},
   "source": [
    "# Copy and rename old files to their new paths"
   ]
  },
  {
   "cell_type": "code",
   "execution_count": null,
   "id": "45c49c35",
   "metadata": {},
   "outputs": [],
   "source": [
    "sort_source_to_target(\n",
    "    file_infos_path= corrected_file_infos_path,\n",
    "    TOKEN=ACCESS_TOKEN\n",
    "    )"
   ]
  }
 ],
 "metadata": {
  "kernelspec": {
   "display_name": ".venv (3.12.8)",
   "language": "python",
   "name": "python3"
  },
  "language_info": {
   "codemirror_mode": {
    "name": "ipython",
    "version": 3
   },
   "file_extension": ".py",
   "mimetype": "text/x-python",
   "name": "python",
   "nbconvert_exporter": "python",
   "pygments_lexer": "ipython3",
   "version": "3.12.8"
  }
 },
 "nbformat": 4,
 "nbformat_minor": 5
}
